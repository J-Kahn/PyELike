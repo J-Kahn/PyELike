{
 "metadata": {
  "name": "",
  "signature": "sha256:8a773092e2628666233bc243bebd576bd16c4666f9c1c86db95688f48b8174da"
 },
 "nbformat": 3,
 "nbformat_minor": 0,
 "worksheets": [
  {
   "cells": [
    {
     "cell_type": "code",
     "collapsed": false,
     "input": [
      "import elike\n",
      "import numpy as np\n",
      "from scipy.stats import norm"
     ],
     "language": "python",
     "metadata": {},
     "outputs": [],
     "prompt_number": 229
    },
    {
     "cell_type": "code",
     "collapsed": false,
     "input": [
      "reload(elike)"
     ],
     "language": "python",
     "metadata": {},
     "outputs": [
      {
       "metadata": {},
       "output_type": "pyout",
       "prompt_number": 234,
       "text": [
        "<module 'elike' from 'elike.pyc'>"
       ]
      }
     ],
     "prompt_number": 234
    },
    {
     "cell_type": "markdown",
     "metadata": {},
     "source": [
      "# Normal distribution moments"
     ]
    },
    {
     "cell_type": "code",
     "collapsed": false,
     "input": [
      "def mom(theta, x):\n",
      "\treturn np.concatenate((x - theta[0], \n",
      "                      theta[1]**2-(x - theta[0])**2,\n",
      "                      (x-theta[0])**3,\n",
      "                      3*theta[1]**4 - (x - theta[0])**4,\n",
      "                      (x-theta[0])**5,\n",
      "                      15*theta[1]**6 - (x - theta[0])**6,\n",
      "                      (x-theta[0])**7,\n",
      "                      105*theta[1]**8 - (x - theta[0])**8,\n",
      "                      (x-theta[0])**9,\n",
      "                      (x-theta[0])**11,\n",
      "                      ),axis=1)"
     ],
     "language": "python",
     "metadata": {},
     "outputs": [],
     "prompt_number": 235
    },
    {
     "cell_type": "code",
     "collapsed": false,
     "input": [
      "elnorm = elike.elspec(mom)"
     ],
     "language": "python",
     "metadata": {},
     "outputs": [],
     "prompt_number": 236
    },
    {
     "cell_type": "code",
     "collapsed": false,
     "input": [
      "xv = norm(loc = 3, scale = 5)\n",
      "x = xv.rvs(size=(5000,1))\n",
      "#x[0] = 6000\n",
      "elnorm.add_data(x)"
     ],
     "language": "python",
     "metadata": {},
     "outputs": [],
     "prompt_number": 237
    },
    {
     "cell_type": "code",
     "collapsed": false,
     "input": [
      "def dcdfi(x, y):\n",
      "    return np.sum(y<=x)/float(y.shape[0])\n",
      "\n",
      "def dcdf(x, y):\n",
      "    \n",
      "    prb = np.zeros(x.shape)\n",
      "    for i in range(0,prb.shape[0]):\n",
      "        prb[i] = dcdfi(x[i], y)\n",
      "    return prb"
     ],
     "language": "python",
     "metadata": {},
     "outputs": [],
     "prompt_number": 238
    },
    {
     "cell_type": "markdown",
     "metadata": {},
     "source": [
      "# Estimate using Empirical Likelihood"
     ]
    },
    {
     "cell_type": "code",
     "collapsed": false,
     "input": [
      "elnorm.gel_estimate([0,1])"
     ],
     "language": "python",
     "metadata": {},
     "outputs": [],
     "prompt_number": 239
    },
    {
     "cell_type": "code",
     "collapsed": false,
     "input": [
      "elnorm.lagrange"
     ],
     "language": "python",
     "metadata": {},
     "outputs": [
      {
       "metadata": {},
       "output_type": "pyout",
       "prompt_number": 240,
       "text": [
        "array([[  1.44604771e-06],\n",
        "       [ -2.39570980e-06],\n",
        "       [ -3.05381395e-08],\n",
        "       [  5.40580371e-08],\n",
        "       [  1.06515197e-09],\n",
        "       [ -4.42236509e-10],\n",
        "       [ -1.85913631e-11],\n",
        "       [  1.06520456e-12],\n",
        "       [  1.17374509e-13],\n",
        "       [ -2.32260484e-16]])"
       ]
      }
     ],
     "prompt_number": 240
    },
    {
     "cell_type": "code",
     "collapsed": false,
     "input": [
      "elnorm.estim"
     ],
     "language": "python",
     "metadata": {},
     "outputs": [
      {
       "metadata": {},
       "output_type": "pyout",
       "prompt_number": 241,
       "text": [
        "  status: 0\n",
        "    nfev: 148\n",
        " success: True\n",
        "     fun: 2.2120874098767328e-06\n",
        "       x: array([ 2.94108684,  4.81287533])\n",
        " message: 'Optimization terminated successfully.'\n",
        "     nit: 79"
       ]
      }
     ],
     "prompt_number": 241
    },
    {
     "cell_type": "code",
     "collapsed": false,
     "input": [
      "elnorm.theta"
     ],
     "language": "python",
     "metadata": {},
     "outputs": [
      {
       "metadata": {},
       "output_type": "pyout",
       "prompt_number": 242,
       "text": [
        "array([ 2.94108684,  4.81287533])"
       ]
      }
     ],
     "prompt_number": 242
    },
    {
     "cell_type": "code",
     "collapsed": false,
     "input": [
      "theta_gel = elnorm.theta"
     ],
     "language": "python",
     "metadata": {},
     "outputs": [],
     "prompt_number": 243
    },
    {
     "cell_type": "markdown",
     "metadata": {},
     "source": [
      "#What do the probabilities look like?"
     ]
    },
    {
     "cell_type": "code",
     "collapsed": false,
     "input": [
      "%matplotlib inline"
     ],
     "language": "python",
     "metadata": {},
     "outputs": [],
     "prompt_number": 244
    },
    {
     "cell_type": "code",
     "collapsed": false,
     "input": [
      "import matplotlib.pyplot as plt"
     ],
     "language": "python",
     "metadata": {},
     "outputs": [],
     "prompt_number": 245
    },
    {
     "cell_type": "code",
     "collapsed": false,
     "input": [
      "x = np.sort(x,axis=0)"
     ],
     "language": "python",
     "metadata": {},
     "outputs": [],
     "prompt_number": 246
    },
    {
     "cell_type": "markdown",
     "metadata": {},
     "source": [
      "Empirical cdf versus empirical cdf from EL estimation"
     ]
    },
    {
     "cell_type": "code",
     "collapsed": false,
     "input": [
      "plt.plot(x, elnorm.ecdf(x)-xv.cdf(x), 'k--', x, dcdf(x,x) - xv.cdf(x),'k')"
     ],
     "language": "python",
     "metadata": {},
     "outputs": [
      {
       "metadata": {},
       "output_type": "pyout",
       "prompt_number": 247,
       "text": [
        "[<matplotlib.lines.Line2D at 0x7f6df23e2450>,\n",
        " <matplotlib.lines.Line2D at 0x7f6df23e26d0>]"
       ]
      },
      {
       "metadata": {},
       "output_type": "display_data",
       "png": "[encoded data removed]",
       "text": [
        "<matplotlib.figure.Figure at 0x7f6df26de2d0>"
       ]
      }
     ],
     "prompt_number": 247
    },
    {
     "cell_type": "markdown",
     "metadata": {},
     "source": [
      "MSE of empirical CDF and EL CDF"
     ]
    },
    {
     "cell_type": "code",
     "collapsed": false,
     "input": [
      "np.sum((elnorm.ecdf(x)-xv.cdf(x))**2)"
     ],
     "language": "python",
     "metadata": {},
     "outputs": [
      {
       "metadata": {},
       "output_type": "pyout",
       "prompt_number": 248,
       "text": [
        "0.19861984274336858"
       ]
      }
     ],
     "prompt_number": 248
    },
    {
     "cell_type": "code",
     "collapsed": false,
     "input": [
      "np.sum((dcdf(x,x)-xv.cdf(x))**2)"
     ],
     "language": "python",
     "metadata": {},
     "outputs": [
      {
       "metadata": {},
       "output_type": "pyout",
       "prompt_number": 249,
       "text": [
        "0.19871399009945712"
       ]
      }
     ],
     "prompt_number": 249
    },
    {
     "cell_type": "markdown",
     "metadata": {},
     "source": [
      "#Compare to GMM"
     ]
    },
    {
     "cell_type": "code",
     "collapsed": false,
     "input": [
      "elnorm.gmm_estimate([0,1])"
     ],
     "language": "python",
     "metadata": {},
     "outputs": [
      {
       "output_type": "stream",
       "stream": "stdout",
       "text": [
        "15.3848993883\n",
        "0.0824181327201"
       ]
      },
      {
       "output_type": "stream",
       "stream": "stdout",
       "text": [
        "\n",
        "0.00229975315452"
       ]
      },
      {
       "output_type": "stream",
       "stream": "stdout",
       "text": [
        "\n",
        "4.57740695411e-05"
       ]
      },
      {
       "output_type": "stream",
       "stream": "stdout",
       "text": [
        "\n",
        "9.3290774512e-07"
       ]
      },
      {
       "output_type": "stream",
       "stream": "stdout",
       "text": [
        "\n"
       ]
      }
     ],
     "prompt_number": 250
    },
    {
     "cell_type": "code",
     "collapsed": false,
     "input": [
      "elnorm.estim"
     ],
     "language": "python",
     "metadata": {},
     "outputs": [
      {
       "metadata": {},
       "output_type": "pyout",
       "prompt_number": 251,
       "text": [
        "  status: 0\n",
        "    nfev: 53\n",
        " success: True\n",
        "     fun: 4.4560222589839908e-10\n",
        "       x: array([ 2.98670622,  4.80773364])\n",
        " message: 'Optimization terminated successfully.'\n",
        "     nit: 28"
       ]
      }
     ],
     "prompt_number": 251
    },
    {
     "cell_type": "code",
     "collapsed": false,
     "input": [
      "elnorm.theta"
     ],
     "language": "python",
     "metadata": {},
     "outputs": [
      {
       "metadata": {},
       "output_type": "pyout",
       "prompt_number": 252,
       "text": [
        "array([ 2.98670622,  4.80773364])"
       ]
      }
     ],
     "prompt_number": 252
    },
    {
     "cell_type": "code",
     "collapsed": false,
     "input": [
      "theta_gmm = elnorm.theta"
     ],
     "language": "python",
     "metadata": {},
     "outputs": [],
     "prompt_number": 253
    },
    {
     "cell_type": "code",
     "collapsed": false,
     "input": [
      "elnorm.lagrange_step(elnorm.theta)"
     ],
     "language": "python",
     "metadata": {},
     "outputs": [],
     "prompt_number": 255
    },
    {
     "cell_type": "code",
     "collapsed": false,
     "input": [
      "elnorm.ltol"
     ],
     "language": "python",
     "metadata": {},
     "outputs": [
      {
       "metadata": {},
       "output_type": "pyout",
       "prompt_number": 256,
       "text": [
        "6.7801625524557675e-12"
       ]
      }
     ],
     "prompt_number": 256
    },
    {
     "cell_type": "markdown",
     "metadata": {},
     "source": [
      "#Compare two methods"
     ]
    },
    {
     "cell_type": "code",
     "collapsed": false,
     "input": [
      "(theta_gmm - [3,5])/[3,5]"
     ],
     "language": "python",
     "metadata": {},
     "outputs": [
      {
       "metadata": {},
       "output_type": "pyout",
       "prompt_number": 260,
       "text": [
        "array([-0.00443126, -0.03845327])"
       ]
      }
     ],
     "prompt_number": 260
    },
    {
     "cell_type": "code",
     "collapsed": false,
     "input": [
      "(theta_gel - [3,5])/[3,5]"
     ],
     "language": "python",
     "metadata": {},
     "outputs": [
      {
       "metadata": {},
       "output_type": "pyout",
       "prompt_number": 261,
       "text": [
        "array([-0.01963772, -0.03742493])"
       ]
      }
     ],
     "prompt_number": 261
    }
   ],
   "metadata": {}
  }
 ]
}