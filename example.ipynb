{
 "cells": [
  {
   "cell_type": "code",
   "execution_count": 2,
   "metadata": {},
   "outputs": [],
   "source": [
    "import elike\n",
    "import numpy as np\n",
    "from scipy.stats import norm"
   ]
  },
  {
   "cell_type": "markdown",
   "metadata": {},
   "source": [
    "# Normal distribution moments"
   ]
  },
  {
   "cell_type": "code",
   "execution_count": 3,
   "metadata": {},
   "outputs": [],
   "source": [
    "def mom(theta, x):\n",
    "\treturn np.concatenate((x - theta[0], \n",
    "                      theta[1]**2-(x - theta[0])**2,\n",
    "                      (x-theta[0])**3,\n",
    "                      3*theta[1]**4 - (x - theta[0])**4,\n",
    "                      (x-theta[0])**5,\n",
    "                      15*theta[1]**6 - (x - theta[0])**6,\n",
    "                      (x-theta[0])**7,\n",
    "                      105*theta[1]**8 - (x - theta[0])**8,\n",
    "                      (x-theta[0])**9,\n",
    "                      (x-theta[0])**11,\n",
    "                      ),axis=1)"
   ]
  },
  {
   "cell_type": "code",
   "execution_count": 4,
   "metadata": {},
   "outputs": [],
   "source": [
    "elnorm = elike.elspec(mom)"
   ]
  },
  {
   "cell_type": "code",
   "execution_count": 5,
   "metadata": {},
   "outputs": [],
   "source": [
    "xv = norm(loc = 3, scale = 5)\n",
    "x = xv.rvs(size=(5000,1))\n",
    "#x[0] = 6000\n",
    "elnorm.add_data(x)"
   ]
  },
  {
   "cell_type": "code",
   "execution_count": 6,
   "metadata": {},
   "outputs": [],
   "source": [
    "def dcdfi(x, y):\n",
    "    return np.sum(y<=x)/float(y.shape[0])\n",
    "\n",
    "def dcdf(x, y):\n",
    "    \n",
    "    prb = np.zeros(x.shape)\n",
    "    for i in range(0,prb.shape[0]):\n",
    "        prb[i] = dcdfi(x[i], y)\n",
    "    return prb"
   ]
  },
  {
   "cell_type": "markdown",
   "metadata": {},
   "source": [
    "# Estimate using Empirical Likelihood"
   ]
  },
  {
   "cell_type": "code",
   "execution_count": 7,
   "metadata": {},
   "outputs": [],
   "source": [
    "elnorm.gel_estimate([0,1])"
   ]
  },
  {
   "cell_type": "code",
   "execution_count": 8,
   "metadata": {},
   "outputs": [
    {
     "data": {
      "text/plain": [
       "array([[ -6.49306107e-07],\n",
       "       [ -1.72610482e-06],\n",
       "       [  2.24934864e-07],\n",
       "       [  4.60625211e-08],\n",
       "       [ -7.35597941e-09],\n",
       "       [ -4.57636390e-10],\n",
       "       [  7.97998030e-11],\n",
       "       [  1.24964105e-12],\n",
       "       [ -3.49913586e-13],\n",
       "       [  5.31346686e-16]])"
      ]
     },
     "execution_count": 8,
     "metadata": {},
     "output_type": "execute_result"
    }
   ],
   "source": [
    "elnorm.lagrange"
   ]
  },
  {
   "cell_type": "code",
   "execution_count": 9,
   "metadata": {},
   "outputs": [
    {
     "data": {
      "text/plain": [
       " final_simplex: (array([[ 3.06503863,  4.70985798],\n",
       "       [ 3.06510771,  4.7098025 ],\n",
       "       [ 3.06500709,  4.70979495]]), array([  3.12900959e-06,   3.12900961e-06,   3.12900970e-06]))\n",
       "           fun: 3.1290095889724701e-06\n",
       "       message: 'Optimization terminated successfully.'\n",
       "          nfev: 147\n",
       "           nit: 76\n",
       "        status: 0\n",
       "       success: True\n",
       "             x: array([ 3.06503863,  4.70985798])"
      ]
     },
     "execution_count": 9,
     "metadata": {},
     "output_type": "execute_result"
    }
   ],
   "source": [
    "elnorm.estim"
   ]
  },
  {
   "cell_type": "code",
   "execution_count": 10,
   "metadata": {},
   "outputs": [
    {
     "data": {
      "text/plain": [
       "array([ 3.06503863,  4.70985798])"
      ]
     },
     "execution_count": 10,
     "metadata": {},
     "output_type": "execute_result"
    }
   ],
   "source": [
    "elnorm.theta"
   ]
  },
  {
   "cell_type": "code",
   "execution_count": 11,
   "metadata": {},
   "outputs": [],
   "source": [
    "theta_gel = elnorm.theta"
   ]
  },
  {
   "cell_type": "markdown",
   "metadata": {},
   "source": [
    "# What do the probabilities look like?"
   ]
  },
  {
   "cell_type": "code",
   "execution_count": 12,
   "metadata": {},
   "outputs": [],
   "source": [
    "%matplotlib inline"
   ]
  },
  {
   "cell_type": "code",
   "execution_count": 13,
   "metadata": {},
   "outputs": [],
   "source": [
    "import matplotlib.pyplot as plt"
   ]
  },
  {
   "cell_type": "code",
   "execution_count": 14,
   "metadata": {},
   "outputs": [],
   "source": [
    "x = np.sort(x,axis=0)"
   ]
  },
  {
   "cell_type": "markdown",
   "metadata": {},
   "source": [
    "Empirical cdf versus empirical cdf from EL estimation"
   ]
  },
  {
   "cell_type": "code",
   "execution_count": 15,
   "metadata": {},
   "outputs": [
    {
     "data": {
      "text/plain": [
       "[<matplotlib.lines.Line2D at 0x7f94cc51a7f0>]"
      ]
     },
     "execution_count": 15,
     "metadata": {},
     "output_type": "execute_result"
    },
    {
     "data": {
      "image/png": "[encoded data removed]",
      "text/plain": [
       "<matplotlib.figure.Figure at 0x7f94cc51a828>"
      ]
     },
     "metadata": {},
     "output_type": "display_data"
    }
   ],
   "source": [
    "plt.plot(x, elnorm.ecdf(x), 'k--')\n",
    "plt.plot(x, xv.cdf(x), 'r')"
   ]
  },
  {
   "cell_type": "markdown",
   "metadata": {},
   "source": [
    "MSE of empirical CDF and EL CDF"
   ]
  },
  {
   "cell_type": "code",
   "execution_count": 16,
   "metadata": {},
   "outputs": [
    {
     "data": {
      "text/plain": [
       "0.12545088780698183"
      ]
     },
     "execution_count": 16,
     "metadata": {},
     "output_type": "execute_result"
    }
   ],
   "source": [
    "np.sum((elnorm.ecdf(x)-xv.cdf(x))**2)"
   ]
  },
  {
   "cell_type": "code",
   "execution_count": 17,
   "metadata": {},
   "outputs": [
    {
     "data": {
      "text/plain": [
       "0.12540999631349692"
      ]
     },
     "execution_count": 17,
     "metadata": {},
     "output_type": "execute_result"
    }
   ],
   "source": [
    "np.sum((dcdf(x,x)-xv.cdf(x))**2)"
   ]
  },
  {
   "cell_type": "markdown",
   "metadata": {},
   "source": [
    "# Compare to GMM"
   ]
  },
  {
   "cell_type": "code",
   "execution_count": 25,
   "metadata": {},
   "outputs": [
    {
     "name": "stdout",
     "output_type": "stream",
     "text": [
      "11.3961101698\n",
      "0.0718869471109\n",
      "0.00210113402286\n",
      "0.000115781826993\n",
      "5.59133123953e-06\n",
      "2.42969189849e-07\n"
     ]
    }
   ],
   "source": [
    "elnorm.gmm_estimate([0,4])"
   ]
  },
  {
   "cell_type": "code",
   "execution_count": 26,
   "metadata": {},
   "outputs": [
    {
     "data": {
      "text/plain": [
       " final_simplex: (array([[ 3.14457975,  4.70803185],\n",
       "       [ 3.14450472,  4.70807401],\n",
       "       [ 3.14462671,  4.70806427]]), array([ 0.01592248,  0.01592248,  0.01592248]))\n",
       "           fun: 0.015922483709145466\n",
       "       message: 'Optimization terminated successfully.'\n",
       "          nfev: 51\n",
       "           nit: 26\n",
       "        status: 0\n",
       "       success: True\n",
       "             x: array([ 3.14457975,  4.70803185])"
      ]
     },
     "execution_count": 26,
     "metadata": {},
     "output_type": "execute_result"
    }
   ],
   "source": [
    "elnorm.estim"
   ]
  },
  {
   "cell_type": "code",
   "execution_count": 27,
   "metadata": {},
   "outputs": [],
   "source": [
    "theta_gmm = elnorm.theta"
   ]
  },
  {
   "cell_type": "code",
   "execution_count": 28,
   "metadata": {},
   "outputs": [],
   "source": [
    "elnorm.lagrange_step(elnorm.theta)"
   ]
  },
  {
   "cell_type": "code",
   "execution_count": 29,
   "metadata": {},
   "outputs": [
    {
     "data": {
      "text/plain": [
       "6.7157552973963926e-12"
      ]
     },
     "execution_count": 29,
     "metadata": {},
     "output_type": "execute_result"
    }
   ],
   "source": [
    "elnorm.ltol"
   ]
  },
  {
   "cell_type": "markdown",
   "metadata": {},
   "source": [
    "# Compare two methods"
   ]
  },
  {
   "cell_type": "code",
   "execution_count": 30,
   "metadata": {},
   "outputs": [
    {
     "data": {
      "text/plain": [
       "array([ 0.04819325, -0.05839363])"
      ]
     },
     "execution_count": 30,
     "metadata": {},
     "output_type": "execute_result"
    }
   ],
   "source": [
    "(theta_gmm - [3,5])/[3,5]"
   ]
  },
  {
   "cell_type": "code",
   "execution_count": 31,
   "metadata": {},
   "outputs": [
    {
     "data": {
      "text/plain": [
       "array([ 0.02167954, -0.0580284 ])"
      ]
     },
     "execution_count": 31,
     "metadata": {},
     "output_type": "execute_result"
    }
   ],
   "source": [
    "(theta_gel - [3,5])/[3,5]"
   ]
  }
 ],
 "metadata": {
  "kernelspec": {
   "display_name": "Python 3",
   "language": "python",
   "name": "python3"
  },
  "language_info": {
   "codemirror_mode": {
    "name": "ipython",
    "version": 3
   },
   "file_extension": ".py",
   "mimetype": "text/x-python",
   "name": "python",
   "nbconvert_exporter": "python",
   "pygments_lexer": "ipython3",
   "version": "3.6.3"
  }
 },
 "nbformat": 4,
 "nbformat_minor": 1
}
